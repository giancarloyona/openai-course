{
 "cells": [
  {
   "cell_type": "code",
   "execution_count": 2,
   "metadata": {},
   "outputs": [],
   "source": [
    "import openai\n",
    "from dotenv import dotenv_values\n",
    "config = dotenv_values(\"./../.env\")\n",
    "openai.api_key = config[\"OPENAI_API_KEY\"]"
   ]
  },
  {
   "cell_type": "code",
   "execution_count": 3,
   "metadata": {},
   "outputs": [],
   "source": [
    "import pandas as pd\n",
    "import numpy as np\n",
    "from tenacity import retry, wait_random_exponential, stop_after_attempt\n",
    "import pickle\n",
    "import tiktoken"
   ]
  },
  {
   "attachments": {},
   "cell_type": "markdown",
   "metadata": {},
   "source": [
    "Dataset\n",
    "Download it [here](https://www.kaggle.com/datasets/jrobischon/wikipedia-movie-plots). \n",
    "\n",
    "Extract it and change its path in this file."
   ]
  },
  {
   "cell_type": "code",
   "execution_count": 4,
   "metadata": {},
   "outputs": [],
   "source": [
    "dataset_path = \"./../wiki_movie_plots_deduped.csv\"\n",
    "df = pd.read_csv(dataset_path)"
   ]
  },
  {
   "cell_type": "code",
   "execution_count": 5,
   "metadata": {},
   "outputs": [],
   "source": [
    "movies = df[df[\"Origin/Ethnicity\"] == \"Japanese\"].sort_values(\"Release Year\", ascending=False).head(100)"
   ]
  },
  {
   "cell_type": "code",
   "execution_count": 6,
   "metadata": {},
   "outputs": [],
   "source": [
    "movie_plots = movies[\"Plot\"].values"
   ]
  },
  {
   "attachments": {},
   "cell_type": "markdown",
   "metadata": {},
   "source": [
    "Cost estimation with tiktoken"
   ]
  },
  {
   "cell_type": "code",
   "execution_count": 7,
   "metadata": {},
   "outputs": [],
   "source": [
    "enc = tiktoken.encoding_for_model(\"text-embedding-ada-002\")"
   ]
  },
  {
   "cell_type": "code",
   "execution_count": 8,
   "metadata": {},
   "outputs": [],
   "source": [
    "total_tokens = sum([len(enc.encode(plot)) for plot in movie_plots])"
   ]
  },
  {
   "cell_type": "code",
   "execution_count": 9,
   "metadata": {},
   "outputs": [
    {
     "name": "stdout",
     "output_type": "stream",
     "text": [
      "Estimated cost $0.02\n"
     ]
    }
   ],
   "source": [
    "total_tokens\n",
    "cost = total_tokens * (.0004 / 1000)\n",
    "print(f\"Estimated cost ${cost:.2f}\")"
   ]
  },
  {
   "attachments": {},
   "cell_type": "markdown",
   "metadata": {},
   "source": [
    "Generating the embeddings"
   ]
  },
  {
   "cell_type": "code",
   "execution_count": 10,
   "metadata": {},
   "outputs": [],
   "source": [
    "@retry(wait=wait_random_exponential(min=1, max=20), stop=stop_after_attempt(6))\n",
    "def get_embedding(text, model=\"text-embedding-ada-002\"):\n",
    "\n",
    "    # replace newlines, which can negatively affect performance.\n",
    "    text = text.replace(\"\\n\", \" \")\n",
    "\n",
    "    return openai.Embedding.create(input=text, model=model)[\"data\"][0][\"embedding\"]"
   ]
  },
  {
   "cell_type": "code",
   "execution_count": 11,
   "metadata": {},
   "outputs": [],
   "source": [
    "# establish a cache of embeddings to avoid recomputing\n",
    "# cache is a dict of tuples (text, model) -> embedding, saved as a pickle file\n",
    "\n",
    "# set path to embedding cache\n",
    "embedding_cache_path = \"movie_embeddings_cache2.pkl\"\n",
    "\n",
    "# load the cache if it exists, and save a copy to disk\n",
    "try:\n",
    "    embedding_cache = pd.read_pickle(embedding_cache_path)\n",
    "except FileNotFoundError:\n",
    "    embedding_cache = {}\n",
    "with open(embedding_cache_path, \"wb\") as embedding_cache_file:\n",
    "    pickle.dump(embedding_cache, embedding_cache_file)\n",
    "\n",
    "# define a function to retrieve embeddings from the cache if present, and otherwise request via the API\n",
    "def embedding_from_string(\n",
    "    string,\n",
    "    model=\"text-embedding-ada-002\",\n",
    "    embedding_cache=embedding_cache\n",
    "):\n",
    "    \"\"\"Return embedding of given string, using a cache to avoid recomputing.\"\"\"\n",
    "    if (string, model) not in embedding_cache.keys():\n",
    "        embedding_cache[(string, model)] = get_embedding(string, model)\n",
    "        print(f\"GOT EMBEDDING FROM OPENAI FOR {string[:20]}\")\n",
    "        with open(embedding_cache_path, \"wb\") as embedding_cache_file:\n",
    "            pickle.dump(embedding_cache, embedding_cache_file)\n",
    "    return embedding_cache[(string, model)]"
   ]
  },
  {
   "cell_type": "code",
   "execution_count": 12,
   "metadata": {},
   "outputs": [
    {
     "name": "stdout",
     "output_type": "stream",
     "text": [
      "GOT EMBEDDING FROM OPENAI FOR The story takes plac\n",
      "GOT EMBEDDING FROM OPENAI FOR The story takes plac\n",
      "GOT EMBEDDING FROM OPENAI FOR The story revolves a\n",
      "GOT EMBEDDING FROM OPENAI FOR The story is set in \n",
      "GOT EMBEDDING FROM OPENAI FOR The film begins when\n",
      "GOT EMBEDDING FROM OPENAI FOR The story focuses on\n",
      "GOT EMBEDDING FROM OPENAI FOR Free! Iwatobi Swim C\n",
      "GOT EMBEDDING FROM OPENAI FOR Rei Kiriyama is a 17\n",
      "GOT EMBEDDING FROM OPENAI FOR Following the events\n",
      "GOT EMBEDDING FROM OPENAI FOR Manji is a samurai o\n",
      "GOT EMBEDDING FROM OPENAI FOR The Kaitei Supreme H\n",
      "GOT EMBEDDING FROM OPENAI FOR Zash Caine (ザッシュ・ケイン\n",
      "GOT EMBEDDING FROM OPENAI FOR Onigawara, the direc\n",
      "GOT EMBEDDING FROM OPENAI FOR On an alternate Eart\n",
      "GOT EMBEDDING FROM OPENAI FOR Momo Adachi is a for\n",
      "GOT EMBEDDING FROM OPENAI FOR In the distant techn\n",
      "GOT EMBEDDING FROM OPENAI FOR Kai Ashimoto (足元カイ, \n",
      "GOT EMBEDDING FROM OPENAI FOR The story is set in \n",
      "GOT EMBEDDING FROM OPENAI FOR The plot of Napping \n",
      "GOT EMBEDDING FROM OPENAI FOR The Osugi family con\n",
      "GOT EMBEDDING FROM OPENAI FOR In the year 2126, a \n",
      "GOT EMBEDDING FROM OPENAI FOR Koyomi Araragi, a se\n",
      "GOT EMBEDDING FROM OPENAI FOR A mysterious virus a\n",
      "GOT EMBEDDING FROM OPENAI FOR A woman visiting Kyo\n",
      "GOT EMBEDDING FROM OPENAI FOR The film begins with\n",
      "GOT EMBEDDING FROM OPENAI FOR Ciel, Sebastian and \n",
      "GOT EMBEDDING FROM OPENAI FOR In this romantic com\n",
      "GOT EMBEDDING FROM OPENAI FOR When Sarajevo was de\n",
      "GOT EMBEDDING FROM OPENAI FOR The player assumes t\n",
      "GOT EMBEDDING FROM OPENAI FOR In the year 2026, th\n",
      "GOT EMBEDDING FROM OPENAI FOR High school student \n",
      "GOT EMBEDDING FROM OPENAI FOR Ninon Okamura is an \n",
      "GOT EMBEDDING FROM OPENAI FOR Arata Kasuga lived a\n",
      "GOT EMBEDDING FROM OPENAI FOR The films take place\n",
      "GOT EMBEDDING FROM OPENAI FOR Freshman high school\n",
      "GOT EMBEDDING FROM OPENAI FOR When the right time \n",
      "GOT EMBEDDING FROM OPENAI FOR Unable to endure the\n",
      "GOT EMBEDDING FROM OPENAI FOR A husband (Isao Hash\n",
      "GOT EMBEDDING FROM OPENAI FOR A bombing case at Ni\n",
      "GOT EMBEDDING FROM OPENAI FOR In 1995, five myster\n",
      "GOT EMBEDDING FROM OPENAI FOR The haikara of the t\n",
      "GOT EMBEDDING FROM OPENAI FOR After the formerly p\n",
      "GOT EMBEDDING FROM OPENAI FOR When Shirou was seve\n",
      "GOT EMBEDDING FROM OPENAI FOR Sakamichi Onoda is a\n",
      "GOT EMBEDDING FROM OPENAI FOR The story is set in \n",
      "GOT EMBEDDING FROM OPENAI FOR Second year high sch\n",
      "GOT EMBEDDING FROM OPENAI FOR At the request of hi\n",
      "GOT EMBEDDING FROM OPENAI FOR Ritsuka Tachibana, a\n",
      "GOT EMBEDDING FROM OPENAI FOR In the last summer o\n",
      "GOT EMBEDDING FROM OPENAI FOR The story is about a\n",
      "GOT EMBEDDING FROM OPENAI FOR The series takes pla\n",
      "GOT EMBEDDING FROM OPENAI FOR The year is 2205. Th\n",
      "GOT EMBEDDING FROM OPENAI FOR In the story, the se\n",
      "GOT EMBEDDING FROM OPENAI FOR Miho Nishizumi, a gi\n",
      "GOT EMBEDDING FROM OPENAI FOR The film features Se\n",
      "GOT EMBEDDING FROM OPENAI FOR Taking place 30 Year\n",
      "GOT EMBEDDING FROM OPENAI FOR Living in Okayama, H\n",
      "GOT EMBEDDING FROM OPENAI FOR In the country of Am\n",
      "GOT EMBEDDING FROM OPENAI FOR The Kitauji high sch\n",
      "GOT EMBEDDING FROM OPENAI FOR Josuke Higashikata i\n",
      "GOT EMBEDDING FROM OPENAI FOR The series focuses o\n",
      "GOT EMBEDDING FROM OPENAI FOR Geki Jumonji, the ne\n",
      "GOT EMBEDDING FROM OPENAI FOR The warlord, Nobunag\n",
      "GOT EMBEDDING FROM OPENAI FOR Yorozuya receives tw\n",
      "GOT EMBEDDING FROM OPENAI FOR Ash Ketchum wakes up\n",
      "GOT EMBEDDING FROM OPENAI FOR Takatoshi Tsuda atte\n",
      "GOT EMBEDDING FROM OPENAI FOR The story revolves a\n",
      "GOT EMBEDDING FROM OPENAI FOR Tokyo Ghoul is set i\n",
      "GOT EMBEDDING FROM OPENAI FOR A fire burns as work\n",
      "GOT EMBEDDING FROM OPENAI FOR The film is set a fe\n",
      "GOT EMBEDDING FROM OPENAI FOR Junior high school s\n",
      "GOT EMBEDDING FROM OPENAI FOR In the town of Moshi\n",
      "GOT EMBEDDING FROM OPENAI FOR A young Shirou Emiya\n",
      "GOT EMBEDDING FROM OPENAI FOR The film is a Japane\n",
      "GOT EMBEDDING FROM OPENAI FOR Tomoaki Shigemori is\n",
      "GOT EMBEDDING FROM OPENAI FOR An independent Unit \n",
      "GOT EMBEDDING FROM OPENAI FOR The movie is centere\n",
      "GOT EMBEDDING FROM OPENAI FOR In the opening, Kaib\n",
      "GOT EMBEDDING FROM OPENAI FOR The story begins wit\n",
      "GOT EMBEDDING FROM OPENAI FOR In the 21st century,\n",
      "GOT EMBEDDING FROM OPENAI FOR Dwelling on his past\n",
      "GOT EMBEDDING FROM OPENAI FOR A social worker visi\n",
      "GOT EMBEDDING FROM OPENAI FOR Erika Shinohara is a\n",
      "GOT EMBEDDING FROM OPENAI FOR Sayaka (Mitsuki Taka\n",
      "GOT EMBEDDING FROM OPENAI FOR Kira Aso (Marie Iito\n",
      "GOT EMBEDDING FROM OPENAI FOR During a visit to Te\n",
      "GOT EMBEDDING FROM OPENAI FOR On his way to becomi\n",
      "GOT EMBEDDING FROM OPENAI FOR One night, the Nohar\n",
      "GOT EMBEDDING FROM OPENAI FOR The story starts off\n",
      "GOT EMBEDDING FROM OPENAI FOR Set in the near futu\n",
      "GOT EMBEDDING FROM OPENAI FOR A Black Organization\n",
      "GOT EMBEDDING FROM OPENAI FOR It has been six mont\n"
     ]
    }
   ],
   "source": [
    "plot_embeddings = [embedding_from_string(plot, model=\"text-embedding-ada-002\") for plot in movie_plots]"
   ]
  },
  {
   "attachments": {},
   "cell_type": "markdown",
   "metadata": {},
   "source": [
    "Recommending movie by plot"
   ]
  },
  {
   "cell_type": "code",
   "execution_count": 13,
   "metadata": {},
   "outputs": [],
   "source": [
    "from openai.embeddings_utils import distances_from_embeddings, indices_of_nearest_neighbors_from_distances"
   ]
  },
  {
   "cell_type": "code",
   "execution_count": 16,
   "metadata": {},
   "outputs": [],
   "source": [
    "def print_recommendations_from_strings(\n",
    "    strings,\n",
    "    index_of_source_string,\n",
    "    k_nearest_neighbors=3,\n",
    "    model=\"text-embedding-ada-002\"\n",
    "):\n",
    "    #Get all of the embeddings\n",
    "    embeddings = [embedding_from_string(string) for string in strings]\n",
    "    \n",
    "    # get embedding for our specific query string\n",
    "    query_embedding = embeddings[index_of_source_string]\n",
    "    \n",
    "    # get distances between our embedding and all other embeddings\n",
    "    distances = distances_from_embeddings(query_embedding, embeddings)\n",
    "\n",
    "    # get indices of the nearest neighbors\n",
    "    indices_of_nearest_neighbors = indices_of_nearest_neighbors_from_distances(distances)\n",
    "    \n",
    "    query_string = strings[index_of_source_string]\n",
    "    match_count = 0\n",
    "    for i in indices_of_nearest_neighbors:\n",
    "        if query_string == strings[i]:\n",
    "            continue\n",
    "        if match_count >= k_nearest_neighbors:\n",
    "            break\n",
    "        match_count += 1\n",
    "        print(f\"Found {match_count} closest match: \")\n",
    "        print(f\"Distance of: {distances[i]} \")\n",
    "        print(strings[i])"
   ]
  },
  {
   "cell_type": "code",
   "execution_count": 23,
   "metadata": {},
   "outputs": [
    {
     "name": "stdout",
     "output_type": "stream",
     "text": [
      "Found 1 closest match: \n",
      "Distance of: 0.1421945034273181 \n",
      "The story is set in Sakurada (咲良田), a town where everyone possesses special abilities. The protagonist is Kei Asai, a boy with eidetic memory. Upon Sumire Soma's urging, Kei meets Misora Haruki, a quiet, withdrawn girl who can reset the world up to three days in the past. Thanks to his ability, Kei can remember the time Misora has reset, and thus Sumire suggests that Kei becomes the companion of Haruki to help her use her abilities for good leading to them becoming part of the Service Club—a club that accomplishes tasks given to them. The Service Club then becomes involved with the Administration Bureau, an organization that monitors all special abilities in Sakurada and orchestrates events in Sakurada according to their directives, utilizing the 'Witch' at their disposal. Unknown to the Service Club, their involvement with the Bureau puts them into a larger chain of events that only the Witch knows.\n",
      "Found 2 closest match: \n",
      "Distance of: 0.1421945034273181 \n",
      "The story is set in Sakurada (咲良田), a town where everyone possesses special abilities. The protagonist is Kei Asai, a boy with eidetic memory. Upon Sumire Soma's urging, Kei meets Misora Haruki, a quiet, withdrawn girl who can reset the world up to three days in the past. Thanks to his ability, Kei can remember the time Misora has reset, and thus Sumire suggests that Kei becomes the companion of Haruki to help her use her abilities for good leading to them becoming part of the Service Club—a club that accomplishes tasks given to them. The Service Club then becomes involved with the Administration Bureau, an organization that monitors all special abilities in Sakurada and orchestrates events in Sakurada according to their directives, utilizing the 'Witch' at their disposal. Unknown to the Service Club, their involvement with the Bureau puts them into a larger chain of events that only the Witch knows.\n",
      "Found 3 closest match: \n",
      "Distance of: 0.14627118168611097 \n",
      "Kai Ashimoto (足元カイ, Ashimoto Kai), a young middle schooler, lives in Hinashi Town (日無町, Hinashi-chō), a lonely fishing village, with his father and his grandfather, a parasol maker. He used to live in Tokyo, but after his parents divorced he moved back to his father's home town. Kai has trouble telling his parents the complicated feelings he has for them, and he's lonely and pessimistic about his school life. One of his joys is uploading songs he writes to the internet.\n",
      "One day, his classmates Kunio (国夫) and Yūho (遊歩) invite him to join their band, \"SEIRÈN\". As he reluctantly follows them to Merfolk Island (人魚島, Ningyojima), their practice spot, they meet Lu (ルー, Rū), the ningyo girl. Lu sings merrily and dances innocently. As Kai begins to spend time with her, he starts to be able to say what it is that he's really thinking.\n",
      "But since ancient times, the people of Hinashi Town have thought that mermaids brought disaster. Something happens that puts a huge rift between Lu and the townspeople. And then, the town is in danger. Will Kai's cry for the heart be able to save the town?\n"
     ]
    }
   ],
   "source": [
    "print_recommendations_from_strings(movie_plots, 1)"
   ]
  },
  {
   "cell_type": "code",
   "execution_count": null,
   "metadata": {},
   "outputs": [],
   "source": []
  }
 ],
 "metadata": {
  "kernelspec": {
   "display_name": "venv",
   "language": "python",
   "name": "python3"
  },
  "language_info": {
   "codemirror_mode": {
    "name": "ipython",
    "version": 3
   },
   "file_extension": ".py",
   "mimetype": "text/x-python",
   "name": "python",
   "nbconvert_exporter": "python",
   "pygments_lexer": "ipython3",
   "version": "3.11.4"
  },
  "orig_nbformat": 4
 },
 "nbformat": 4,
 "nbformat_minor": 2
}
